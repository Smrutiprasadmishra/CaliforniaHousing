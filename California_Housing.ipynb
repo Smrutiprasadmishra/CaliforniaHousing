{
 "cells": [
  {
   "cell_type": "code",
   "execution_count": null,
   "id": "df6e05dc",
   "metadata": {},
   "outputs": [],
   "source": [
    "import numpy as np\n",
    "import pandas as pd\n",
    "\n",
    "import plotly.express as px\n",
    "import plotly.graph_objects as go\n",
    "import plotly.io as pio\n",
    "pio.templates\n",
    "\n",
    "import seaborn as sns\n",
    "import matplotlib.pyplot as plt\n",
    "%matplotlib inline\n",
    "\n",
    "from sklearn.datasets import fetch_california_housing\n",
    "load_boston = fetch_california_housing()\n",
    "X = load_boston.data\n",
    "y = load_boston.target\n",
    "\n",
    "data = pd.DataFrame(X , columns=load_boston.feature_names)\n",
    "data['SalePrice'] = y\n",
    "data.head()"
   ]
  },
  {
   "cell_type": "code",
   "execution_count": null,
   "id": "5a17da4a",
   "metadata": {},
   "outputs": [],
   "source": [
    "print(load_boston.DESCR)"
   ]
  },
  {
   "cell_type": "code",
   "execution_count": null,
   "id": "8f9347c9",
   "metadata": {},
   "outputs": [],
   "source": [
    "sns.pairplot(data , height=2.5)\n",
    "plt.tight_layout()\n",
    "sns.displot(data['SalePrice'])\n",
    "print(\"Skewness:\" , data['SalePrice'].skew())\n",
    "print(\"Kurtosis:\" , data['SalePrice'].kurt())"
   ]
  },
  {
   "cell_type": "code",
   "execution_count": null,
   "id": "16e72814",
   "metadata": {},
   "outputs": [],
   "source": [
    "fig , ax = plt.subplots()\n",
    "ax.scatter(x=data['MedInc'] , y=data['SalePrice'])\n",
    "plt.ylabel('SalePrice' , fontsize=13)\n",
    "plt.xlabel('MedInc' , fontsize=13)\n",
    "plt.show()"
   ]
  },
  {
   "cell_type": "code",
   "execution_count": null,
   "id": "8d20f787",
   "metadata": {},
   "outputs": [],
   "source": [
    "fx  ,ax = plt.subplots()\n",
    "ax.scatter(x=data['HouseAge'] , y = data['SalePrice'])\n",
    "plt.ylabel('SalePrice' , fontsize=13)\n",
    "plt.xlabel('HouseAge' , fontsize=13)\n",
    "plt.show()"
   ]
  },
  {
   "cell_type": "code",
   "execution_count": null,
   "id": "1d968bf7",
   "metadata": {},
   "outputs": [],
   "source": [
    "from scipy import stats\n",
    "from scipy.stats import norm , skew\n",
    "\n",
    "sns.distplot(data['SalePrice'] , fit=norm)\n",
    "(mu , sigma) = norm.fit(data['SalePrice'])\n",
    "print('\\n mu = {:.2f} and sigma = {:.2f}\\n'.format(mu , sigma))\n",
    "plt.legend(['Normal dist. ($\\mu=$ {:.2f} and $\\sigma=$ {:.2f} )'.format(mu , sigma)])\n",
    "plt.ylabel('Frequency')\n",
    "plt.title('SalePrice distribution')\n",
    "\n",
    "fig = plt.figure()\n",
    "res = stats.probplot(data['SalePrice'] , plot=plt)\n",
    "plt.show()"
   ]
  },
  {
   "cell_type": "code",
   "execution_count": null,
   "id": "b0137e0e",
   "metadata": {},
   "outputs": [],
   "source": [
    "# Log Transformation and Distribution Analysis of SalePrice\n",
    "data['SalePrice'] = np.log1p(data['SalePrice'])\n",
    "sns.distplot(data['SalePrice'] , fit=norm)\n",
    "(mu , sigma) = norm.fit(data['SalePrice'])\n",
    "print('\\n mu = {:.2f} and sigma = {:.2f}\\n'.format(mu , sigma))\n",
    "plt.legend(['Normal dist. ($\\mu=$ {:.2f} and $\\sigma=$ {:.2f} )'.format(mu , sigma)])\n",
    "plt.ylabel('Frequency')\n",
    "plt.title('SalePrice distribution')\n",
    "\n",
    "fig = plt.figure()\n",
    "res = stats.probplot(data['SalePrice'] , plot=plt)\n",
    "plt.show()"
   ]
  },
  {
   "cell_type": "code",
   "execution_count": null,
   "id": "fcfca61d",
   "metadata": {},
   "outputs": [],
   "source": [
    "# Data Correlation\n",
    "plt.figure(figsize=(10 , 10))\n",
    "cor = data.corr()\n",
    "sns.heatmap(cor , annot=True , cmap=plt.cm.Reds)\n",
    "plt.show()"
   ]
  },
  {
   "cell_type": "code",
   "execution_count": null,
   "id": "72dd4bfc",
   "metadata": {},
   "outputs": [],
   "source": [
    "# Extracting highly correlated feature from the heat map\n",
    "cor_target = abs(cor['SalePrice'])\n",
    "relevant_features = cor_target[cor_target>0.5]\n",
    "names = [index for index , value in relevant_features.items()]\n",
    "names.remove('SalePrice')\n",
    "print(names)\n",
    "print(len(names))"
   ]
  },
  {
   "cell_type": "code",
   "execution_count": null,
   "id": "3a9d8c5a",
   "metadata": {},
   "outputs": [],
   "source": [
    "# MODEL BUILDING\n",
    "from sklearn.model_selection import train_test_split\n",
    "X = data.drop('SalePrice' , axis = 1)\n",
    "y = data['SalePrice']\n",
    "X_train , X_test , y_train , y_test = train_test_split(X , y , test_size = 0.2 , random_state=42)\n",
    "print(X_train)\n",
    "print(X_test)\n",
    "print(y_train)\n",
    "print(y_test)"
   ]
  },
  {
   "cell_type": "code",
   "execution_count": null,
   "id": "c9e0fe1d",
   "metadata": {},
   "outputs": [],
   "source": [
    "from sklearn.linear_model import LinearRegression\n",
    "lr = LinearRegression()\n",
    "lr.fit(X_train , y_train)\n",
    "predictions = lr.predict(X_test)\n",
    "print(\"Actual value of the house\" , y_test.to_list()[4])\n",
    "print(\"Predicted value of the house\" , predictions[4])\n",
    "\n",
    "# Build the scatter plot between actual value and predicted value\n",
    "plt.scatter(y_test , predictions)\n",
    "plt.xlabel(\"Actual value\")\n",
    "plt.ylabel(\"Predicted value\")\n",
    "plt.title(\"Actual value vs Predicted value\")\n",
    "plt.show()"
   ]
  },
  {
   "cell_type": "code",
   "execution_count": null,
   "id": "509b831d",
   "metadata": {},
   "outputs": [],
   "source": [
    "from sklearn.metrics import mean_squared_error\n",
    "mse = mean_squared_error(y_test , predictions)\n",
    "print(\"MSE:\" , mse)\n",
    "print(\"RSME\" , np.sqrt(mse))"
   ]
  }
 ],
 "metadata": {
  "language_info": {
   "name": "python"
  }
 },
 "nbformat": 4,
 "nbformat_minor": 5
}
